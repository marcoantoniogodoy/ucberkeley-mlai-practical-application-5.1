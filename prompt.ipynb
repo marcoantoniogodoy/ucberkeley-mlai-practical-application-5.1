{
 "cells": [
  {
   "cell_type": "markdown",
   "metadata": {},
   "source": [
    "### Will a Customer Accept the Coupon?\n",
    "\n",
    "**Context**\n",
    "\n",
    "Imagine driving through town and a coupon is delivered to your cell phone for a restaraunt near where you are driving. Would you accept that coupon and take a short detour to the restaraunt? Would you accept the coupon but use it on a sunbsequent trip? Would you ignore the coupon entirely? What if the coupon was for a bar instead of a restaraunt? What about a coffee house? Would you accept a bar coupon with a minor passenger in the car? What about if it was just you and your partner in the car? Would weather impact the rate of acceptance? What about the time of day?\n",
    "\n",
    "Obviously, proximity to the business is a factor on whether the coupon is delivered to the driver or not, but what are the factors that determine whether a driver accepts the coupon once it is delivered to them? How would you determine whether a driver is likely to accept a coupon?\n",
    "\n",
    "**Overview**\n",
    "\n",
    "The goal of this project is to use what you know about visualizations and probability distributions to distinguish between customers who accepted a driving coupon versus those that did not.\n",
    "\n",
    "**Data**\n",
    "\n",
    "This data comes to us from the UCI Machine Learning repository and was collected via a survey on Amazon Mechanical Turk. The survey describes different driving scenarios including the destination, current time, weather, passenger, etc., and then ask the person whether he will accept the coupon if he is the driver. Answers that the user will drive there ‘right away’ or ‘later before the coupon expires’ are labeled as ‘Y = 1’ and answers ‘no, I do not want the coupon’ are labeled as ‘Y = 0’.  There are five different types of coupons -- less expensive restaurants (under \\\\$20), coffee houses, carry out & take away, bar, and more expensive restaurants (\\\\$20 - \\\\$50). "
   ]
  },
  {
   "cell_type": "markdown",
   "metadata": {},
   "source": [
    "**Deliverables**\n",
    "\n",
    "Your final product should be a brief report that highlights the differences between customers who did and did not accept the coupons.  To explore the data you will utilize your knowledge of plotting, statistical summaries, and visualization using Python. You will publish your findings in a public facing github repository as your first portfolio piece. \n",
    "\n",
    "\n",
    "\n"
   ]
  },
  {
   "cell_type": "markdown",
   "metadata": {},
   "source": [
    "### Data Description\n",
    "Keep in mind that these values mentioned below are average values.\n",
    "\n",
    "The attributes of this data set include:\n",
    "1. User attributes\n",
    "    -  Gender: male, female\n",
    "    -  Age: below 21, 21 to 25, 26 to 30, etc.\n",
    "    -  Marital Status: single, married partner, unmarried partner, or widowed\n",
    "    -  Number of children: 0, 1, or more than 1\n",
    "    -  Education: high school, bachelors degree, associates degree, or graduate degree\n",
    "    -  Occupation: architecture & engineering, business & financial, etc.\n",
    "    -  Annual income: less than \\\\$12500, \\\\$12500 - \\\\$24999, \\\\$25000 - \\\\$37499, etc.\n",
    "    -  Number of times that he/she goes to a bar: 0, less than 1, 1 to 3, 4 to 8 or greater than 8\n",
    "    -  Number of times that he/she buys takeaway food: 0, less than 1, 1 to 3, 4 to 8 or greater\n",
    "    than 8\n",
    "    -  Number of times that he/she goes to a coffee house: 0, less than 1, 1 to 3, 4 to 8 or\n",
    "    greater than 8\n",
    "    -  Number of times that he/she eats at a restaurant with average expense less than \\\\$20 per\n",
    "    person: 0, less than 1, 1 to 3, 4 to 8 or greater than 8\n",
    "    -  Number of times that he/she goes to a bar: 0, less than 1, 1 to 3, 4 to 8 or greater than 8\n",
    "    \n",
    "\n",
    "2. Contextual attributes\n",
    "    - Driving destination: home, work, or no urgent destination\n",
    "    - Location of user, coupon and destination: we provide a map to show the geographical\n",
    "    location of the user, destination, and the venue, and we mark the distance between each\n",
    "    two places with time of driving. The user can see whether the venue is in the same\n",
    "    direction as the destination.\n",
    "    - Weather: sunny, rainy, or snowy\n",
    "    - Temperature: 30F, 55F, or 80F\n",
    "    - Time: 10AM, 2PM, or 6PM\n",
    "    - Passenger: alone, partner, kid(s), or friend(s)\n",
    "\n",
    "\n",
    "3. Coupon attributes\n",
    "    - time before it expires: 2 hours or one day"
   ]
  },
  {
   "cell_type": "code",
   "execution_count": null,
   "metadata": {},
   "outputs": [],
   "source": [
    "import matplotlib.pyplot as plt\n",
    "import seaborn as sns\n",
    "import pandas as pd\n",
    "import numpy as np\n",
    "import plotly.express as px\n"
   ]
  },
  {
   "cell_type": "markdown",
   "metadata": {},
   "source": [
    "### Problems\n",
    "\n",
    "Use the prompts below to get started with your data analysis.  \n",
    "\n",
    "#### 1. Read in the `coupons.csv` file.\n",
    "\n",
    "\n"
   ]
  },
  {
   "cell_type": "code",
   "execution_count": null,
   "metadata": {},
   "outputs": [],
   "source": [
    "# Load data from source\n",
    "data = pd.read_csv('data/coupons.csv')"
   ]
  },
  {
   "cell_type": "code",
   "execution_count": null,
   "metadata": {},
   "outputs": [],
   "source": [
    "# Review first 10 rows\n",
    "data.head(10)"
   ]
  },
  {
   "cell_type": "markdown",
   "metadata": {},
   "source": [
    "<b>The following observations are gathered from this initial step:</b>\n",
    "- The columns between \"maritalStatus\" and \"CoffeeHouse\" are hidden. We'll explore the values of those in subsequent steps.\n",
    "- At least on the first 10 records, the \"CarryAway\" column contains \"NaN\" (not a number) values\n",
    "- Values on the \"age\" column on the first 10 records are set to \"21\". We'll explore further\n",
    "- There is a typo on the name of the column \"passanger\". It shoould be \"passenger\"."
   ]
  },
  {
   "cell_type": "markdown",
   "metadata": {},
   "source": [
    "#### 2. Investigate the dataset for missing or problematic data.\n"
   ]
  },
  {
   "cell_type": "code",
   "execution_count": null,
   "metadata": {},
   "outputs": [],
   "source": [
    "# Get overview of the data structure \n",
    "data.info()"
   ]
  },
  {
   "cell_type": "markdown",
   "metadata": {},
   "source": [
    "<b>From this initial overview, the following observations are gathered:</b>\n",
    "- There are a total of 12,684 entries and 26 columns (including the index)\n",
    "- The following columns contain null values (based on the count of \"non-null\" values for each column):\n",
    "    - car\n",
    "    - Bar\n",
    "    - CoffeeHouse\n",
    "    - CarryAway\n",
    "    - RestaurantLessThan20\n",
    "    - Restaurant20To50\n",
    "- The column \"car\" is of type \"object\". We'll explore its content on the next step since the information on the data showed from the head() method on step 1 is truncated. \n",
    "- The following columns are of type \"int64\":\n",
    "    - has_children\n",
    "    - toCoupon_GEQ5min\t\n",
    "    - toCoupon_GEQ15min\t\n",
    "    - toCoupon_GEQ25min\t\n",
    "    - direction_same\n",
    "    - direction_opp\n",
    "- Inconsistent naming convention across column names . Although not critical for the data analysis, we may benefit from relabling column names to increase readibility \n",
    "- Although describe in the data description provided, the name of the column \"Y\" is ambigous. We may consider rename it  \n"
   ]
  },
  {
   "cell_type": "code",
   "execution_count": null,
   "metadata": {},
   "outputs": [],
   "source": [
    "# Explore truncated data\n",
    "data[['has_children', 'education', 'occupation', 'income', 'car', 'Bar']].head(10)"
   ]
  },
  {
   "cell_type": "markdown",
   "metadata": {},
   "source": [
    "<b>The following obeservations are gathered from the previous process: </b>\n",
    "- At least on the first 10 entries, the \"car\" column contains \"NaN\" values. We'll continue exploring its content on the next step\n"
   ]
  },
  {
   "cell_type": "markdown",
   "metadata": {},
   "source": [
    "We'll explore the columns that we suspect might have problematic values (these include columns with \"null\" values):"
   ]
  },
  {
   "cell_type": "code",
   "execution_count": null,
   "metadata": {},
   "outputs": [],
   "source": [
    "# Count unique values on the \"car\" column\n",
    "data['car'].value_counts()"
   ]
  },
  {
   "cell_type": "markdown",
   "metadata": {},
   "source": [
    "<b>The following observations are gathered from the previous step:</b>\n",
    "- There are a total of 5 unique values on this column.\n",
    "- The values are ambiguous:\n",
    "    - \"Scooter and motorcycle\" seems to belong to entries where the person uses a motorcycle (or scooter) instead of a car. Therefore, technically they don't own/drive a car.\n",
    "    - From the entries with value \"Mazda5\" (a car model), we can assume that the person own/drive a car. \n",
    "    - We may also assume thet entries with the \"do not drive\" value belong to people that don't own/drive a car\n",
    "    - From the entries with value \"crossover\" (type of car), we can assume that the person own/drive a car.\n",
    "    - From the entries with value \"Car that is too old to install Onstar\" (description of a car), we can assume that the person own/drive a car. \n",
    "- The rest of the data is on the form of \"null\" values, as we discovered with the info() method above."
   ]
  },
  {
   "cell_type": "code",
   "execution_count": null,
   "metadata": {},
   "outputs": [],
   "source": [
    "# Count unique values on the \"CarryAway\" column\n",
    "data['CarryAway'].value_counts()"
   ]
  },
  {
   "cell_type": "code",
   "execution_count": null,
   "metadata": {},
   "outputs": [],
   "source": [
    "# Count unique values on the \"Bar\" column\n",
    "data['Bar'].value_counts()"
   ]
  },
  {
   "cell_type": "code",
   "execution_count": null,
   "metadata": {},
   "outputs": [],
   "source": [
    "# Count unique values on the \"CoffeeHouse\" column\n",
    "data['CoffeeHouse'].value_counts()"
   ]
  },
  {
   "cell_type": "code",
   "execution_count": null,
   "metadata": {},
   "outputs": [],
   "source": [
    "# Count unique values on the \"CoffeeHouse\" column\n",
    "data['RestaurantLessThan20'].value_counts()"
   ]
  },
  {
   "cell_type": "code",
   "execution_count": null,
   "metadata": {},
   "outputs": [],
   "source": [
    "# Count unique values on the \"Restaurant20To50\" column\n",
    "data['Restaurant20To50'].value_counts()"
   ]
  },
  {
   "cell_type": "markdown",
   "metadata": {},
   "source": [
    "<b>The following information is gathered through the value_counts() method from the previous steps:</b>\n",
    "- The values of the columns \"CarreyAway\", \"Bar\", \"CoffeeHouse\", \"RestaurantLessThan20\", \"Restaurant20To50\" seem descriptive enough\n",
    "- Those values are consistent across those columns\n",
    "- Although not a high priority, we may consider ralabling the value \"gt8\" to increase readibility. "
   ]
  },
  {
   "cell_type": "code",
   "execution_count": null,
   "metadata": {},
   "outputs": [],
   "source": [
    "# Explore values on the \"age\" column\n",
    "data['age'].value_counts()"
   ]
  },
  {
   "cell_type": "markdown",
   "metadata": {},
   "source": [
    "Based on the data returned from the value counts on the \"age\" columns, we can assume those values refer to age groups."
   ]
  },
  {
   "cell_type": "markdown",
   "metadata": {},
   "source": [
    "#### 3. Decide what to do about your missing data -- drop, replace, other..."
   ]
  },
  {
   "cell_type": "markdown",
   "metadata": {},
   "source": [
    "Based the observations gathered thus far, we will proceed to clean the data as follow:\n",
    "1. Correct name of \"passanger\" column to \"passenger\"\n",
    "2. Rename columns using a standard naming convention. We'll use snake_case\n",
    "3. Create a new column named \"motorcycle\" using the entries with values \"Scooter or motorcycle\" from the \"car\" column\n",
    "4. Convert the car column to True/False (boolean) values based on whether the person drives (or NOT) a car. The reasoning behind this is that additional information on this column (i.e.\"Mazda5\", \"crossover\", etc.) does not seem to be relevant for the analysis  \n",
    "5. Convert \"NaN\" values to string values on the following columns:\n",
    "    - bar : 'never'\n",
    "    - coffee_house : 'never'\n",
    "    - carry_away : 'never' \n",
    "    - restaurant_less_than_20 : 'never'\n",
    "    - restaurant_20_to_50 : 'never'\n",
    "6. Rename \"Y\" column to \"accept_coupon\"\n",
    "7. Rename values of \"age\" column to better describe age groups\n"
   ]
  },
  {
   "cell_type": "code",
   "execution_count": null,
   "metadata": {},
   "outputs": [],
   "source": [
    "# 1. Rename columns using a standard naming convention. We'll use snake_case\n",
    "data = data.rename({\n",
    "    'passanger' : 'passenger'\n",
    " }, axis=\"columns\")\n",
    "\n",
    "# 2. Rename columns using a standard naming convention. We'll use snake_case\n",
    "data = data.rename({\n",
    "    'maritalStatus' : 'marital_status',\n",
    "    'Bar' : 'bar',\n",
    "    'CoffeeHouse' : 'coffee_house',\n",
    "    'CarryAway' : 'carry_away',\n",
    "    'RestaurantLessThan20' : 'restaurant_less_than_20',\n",
    "    'Restaurant20To50' : 'restaurant_20_to_50',\n",
    "    'toCoupon_GEQ5min' : 'to_coupon_geq_5min',\n",
    "    'toCoupon_GEQ15min' : 'to_coupon_geq_15min',\n",
    "    'toCoupon_GEQ25min' : 'to_coupon_geq_25min'\n",
    " }, axis=\"columns\")\n"
   ]
  },
  {
   "cell_type": "code",
   "execution_count": null,
   "metadata": {},
   "outputs": [],
   "source": [
    "# 3. Create a new column named \"rides_motorcycle\" using the entries with values \"scooter or motorcycle\" from the \"car\" column\n",
    "data['rides_motorcycle'] = data['car'].apply(lambda x: x == 'Scooter and motorcycle')\n",
    "\n",
    "# Verify\n",
    "data['rides_motorcycle'].value_counts()\n"
   ]
  },
  {
   "cell_type": "code",
   "execution_count": null,
   "metadata": {},
   "outputs": [],
   "source": [
    "# 3. We'll create a \"drives_car\" column to hold the result of the data conversion for the entries that contain \"car related\" values. \n",
    "    # Scooter and motorcycle                      22\n",
    "    # Mazda5                                      22\n",
    "    # do not drive                                22\n",
    "    # crossover                                   21\n",
    "    # Car that is too old to install Onstar :D    21\n",
    "\n",
    "data['drives_car'] = data['car'].apply(lambda x: (x == 'Mazda5') | (x == 'crossover') | (x == 'Car that is too old to install Onstar :D'))\n",
    "data['drives_car'].value_counts()"
   ]
  },
  {
   "cell_type": "code",
   "execution_count": null,
   "metadata": {},
   "outputs": [],
   "source": [
    "# verify\n",
    "data.info()"
   ]
  },
  {
   "cell_type": "code",
   "execution_count": null,
   "metadata": {},
   "outputs": [],
   "source": [
    "# 4. Convert \"NaN\" values to numeric/string values on the following columns:\n",
    "#   - drives_car : False\n",
    "#   - bar : 'never'\n",
    "#   - coffee_house : 'never'\n",
    "#   - carry_away : 'never \n",
    "#   - restaurant_less_than_20 : 'never'\n",
    "#   - restaurant_20_to_50 : 'never'\n",
    "\n",
    "data['drives_car'] = data['drives_car'].fillna(False)\n",
    "data['bar'] = data['bar'].fillna('never')\n",
    "data['coffee_house'] = data['coffee_house'].fillna('never')\n",
    "data['carry_away'] = data['carry_away'].fillna('never')\n",
    "data['restaurant_less_than_20'] = data['restaurant_less_than_20'].fillna('never')\n",
    "data['restaurant_20_to_50'] = data['restaurant_20_to_50'].fillna('never')\n",
    "\n",
    "#verify that there are no null values\n",
    "data.info()"
   ]
  },
  {
   "cell_type": "code",
   "execution_count": null,
   "metadata": {},
   "outputs": [],
   "source": [
    "# 5. Rename \"Y\" column to \"accept_coupon\"\n",
    "data = data.rename({'Y':'accept_coupon'}, axis='columns')\n",
    "\n",
    "#verify\n",
    "data.head()"
   ]
  },
  {
   "cell_type": "code",
   "execution_count": null,
   "metadata": {},
   "outputs": [],
   "source": [
    "# 6. Rename values of \"age\" column to better describe age groups \n",
    "def convertToAgeGroup(x):\n",
    "    match x: \n",
    "        case 'below21':\n",
    "            convertedValue = 'under 21'\n",
    "        case '21':\n",
    "            convertedValue = '21 to 25'\n",
    "        case '26':\n",
    "            convertedValue = '26 to 30'\n",
    "        case '31':\n",
    "            convertedValue = '31 to 35'\n",
    "        case '31':\n",
    "            convertedValue = '31 to 35'\n",
    "        case '36':\n",
    "            convertedValue = '36 to 40'\n",
    "        case '41':\n",
    "            convertedValue = '41 to 45'\n",
    "        case '46':\n",
    "            convertedValue = '46 to 50'\n",
    "        case '50plus':\n",
    "            convertedValue = 'Over 50'\n",
    "        case _:\n",
    "            convertedValue = x            \n",
    "    return convertedValue\n",
    "\n",
    "data['age'] = data['age'].apply(lambda x: convertToAgeGroup(x))\n",
    "\n",
    "# verify\n",
    "data['age'].value_counts()"
   ]
  },
  {
   "cell_type": "markdown",
   "metadata": {},
   "source": [
    "#### 4. What proportion of the total observations chose to accept the coupon? \n",
    "\n"
   ]
  },
  {
   "cell_type": "code",
   "execution_count": null,
   "metadata": {},
   "outputs": [],
   "source": [
    "# Generate pie chart\n",
    "fig = px.pie(data, names='accept_coupon', title=\"Coupon Acceptance Rate: All Coupons\")\n",
    "fig.show()"
   ]
  },
  {
   "cell_type": "markdown",
   "metadata": {},
   "source": [
    "Response: From the pie chart above we can see that 56.8% of the coupons were accepted"
   ]
  },
  {
   "cell_type": "markdown",
   "metadata": {},
   "source": [
    "#### 5. Use a bar plot to visualize the `coupon` column."
   ]
  },
  {
   "cell_type": "code",
   "execution_count": null,
   "metadata": {},
   "outputs": [],
   "source": [
    "# Generate bar chart\n",
    "fig = px.bar(data['coupon'].value_counts(), title='Coupon count aggregated by coupon type')\n",
    "fig.show()\n"
   ]
  },
  {
   "cell_type": "markdown",
   "metadata": {},
   "source": [
    "6. Use a histogram to visualize the temperature column."
   ]
  },
  {
   "cell_type": "code",
   "execution_count": null,
   "metadata": {},
   "outputs": [],
   "source": [
    "# Generate histogram\n",
    "px.histogram(data, x='temperature', title=\"Coupon count aggregated by temperature when the coupon is accepted or not\")"
   ]
  },
  {
   "cell_type": "markdown",
   "metadata": {},
   "source": [
    "### **Investigating the Bar Coupons**\n",
    "\n",
    "Now, we will lead you through an exploration of just the bar related coupons.  \n",
    "\n",
    "#### 1. Create a new `DataFrame` that contains just the bar coupons.\n"
   ]
  },
  {
   "cell_type": "code",
   "execution_count": null,
   "metadata": {},
   "outputs": [],
   "source": [
    "# Query entries that match condition \"coupon == 'Bar'\"  \n",
    "bar_coupons = data[data[\"coupon\"] == 'Bar']\n",
    "\n",
    "# Verify\n",
    "bar_coupons.head()"
   ]
  },
  {
   "cell_type": "markdown",
   "metadata": {},
   "source": [
    "#### 2. What proportion of bar coupons were accepted?\n"
   ]
  },
  {
   "cell_type": "code",
   "execution_count": null,
   "metadata": {},
   "outputs": [],
   "source": [
    "# Generate pie chart\n",
    "fig_2 = px.pie(bar_coupons, names='accept_coupon', title=\"'Bar' Coupon Acceptance Rate\")\n",
    "fig_2.show()"
   ]
  },
  {
   "cell_type": "markdown",
   "metadata": {},
   "source": [
    "Response: From the previous bar chart we can see that 41% of the bar coupons were accepted"
   ]
  },
  {
   "cell_type": "markdown",
   "metadata": {},
   "source": [
    "#### 3. Compare the acceptance rate between those who went to a bar 3 or fewer times a month to those who went more.\n"
   ]
  },
  {
   "cell_type": "code",
   "execution_count": null,
   "metadata": {},
   "outputs": [],
   "source": [
    "# Set list of keys for \"three times or less\" visits per month\n",
    "three_or_less = ['never', 'less1', '1~3']\n",
    "\n",
    "# Set group 3a: those who went to a bar 3 or fewer times in a month\n",
    "group_3a = bar_coupons.query('bar in @three_or_less')\n",
    "\n",
    "# Generate visualization for group 3a\n",
    "fig_3a=px.pie(group_3a, names='accept_coupon', title=\"'Bar' Coupon Acceptance Rate: Three or less visits in a month to the bar\")\n",
    "fig_3a.show()\n"
   ]
  },
  {
   "cell_type": "markdown",
   "metadata": {},
   "source": [
    "From the pie chart above we can see that 37.1% of the bar coupons were accepted by people that visit a bar three or less times in a month."
   ]
  },
  {
   "cell_type": "code",
   "execution_count": null,
   "metadata": {},
   "outputs": [],
   "source": [
    "# Set group 3b: those who went to a bar more than 3 times in a month\n",
    "group_3b = bar_coupons.query('bar not in @three_or_less')\n",
    "\n",
    "# Generate visualization for group 3b\n",
    "fig_3b=px.pie(group_3b, names='accept_coupon', title=\"'Bar' Coupon Acceptance Rate: More than three visits a month to the bar\")\n",
    "fig_3b.show()"
   ]
  },
  {
   "cell_type": "markdown",
   "metadata": {},
   "source": [
    "From the pie chart above we can see that 23.1% of the bar coupons were accepted by people that visit a bar more than three times in a month."
   ]
  },
  {
   "cell_type": "markdown",
   "metadata": {},
   "source": [
    "#### 4. Compare the acceptance rate between drivers who go to a bar more than once a month and are over the age of 25 to the all others.  Is there a difference?\n"
   ]
  },
  {
   "cell_type": "code",
   "execution_count": null,
   "metadata": {},
   "outputs": [],
   "source": [
    "# Create list with values equivalent to 'more than once a month'  \n",
    "bc_more_than_once = ['1~3', '4~8', 'gt8']\n",
    "\n",
    "# Create list with values equivalent to 25 years and younger. This will be used as the exclusion condition (not in) for the age feature  \n",
    "bc_25_years_old_and_under = ['under 21', '21 to 25']\n",
    "\n",
    "# Create dataframe with filtered data\n",
    "bc_more_than_once_over_25_driver = bar_coupons.query('drives_car == True & bar in @bc_more_than_once & age not in @bc_25_years_old_and_under')\n",
    "\n",
    "# Explore results\n",
    "bc_more_than_once_over_25_driver.describe()\n"
   ]
  },
  {
   "cell_type": "markdown",
   "metadata": {},
   "source": [
    "From the previous table we can see that query did not find any matches. Therefore it is not possible to calculate the acceptance rate using those query conditions. However, we're going to also query the data using the column we added with the name \"rides_motorcycle\" to determine if there are any matches, although technically a motorcyle is not a \"drivable\" car."
   ]
  },
  {
   "cell_type": "code",
   "execution_count": null,
   "metadata": {},
   "outputs": [],
   "source": [
    "# Create dataframe with the results of the query \"rides_motorcyle\" instead of \"drives_car\". \n",
    "bc_more_than_once_over_25_driver = bar_coupons.query('rides_motorcycle == True & bar in @bc_more_than_once & age not in @bc_25_years_old_and_under')\n",
    "\n",
    "# Explore results\n",
    "bc_more_than_once_over_25_driver.describe()"
   ]
  },
  {
   "cell_type": "markdown",
   "metadata": {},
   "source": [
    "The query did not find any matches for the condition \"rides_motorcycle == True\" either. To be completely sure there was not an issue with the data conversion during the data cleaning process, we're going to perform the original query, but this time using the \"car\" column"
   ]
  },
  {
   "cell_type": "code",
   "execution_count": null,
   "metadata": {},
   "outputs": [],
   "source": [
    "# Create dataframe with the results of the query using the original \"car\" column\n",
    "bc_more_than_once_over_25_driver = bar_coupons.query('car != \"do not drive\" & bar in @bc_more_than_once & age not in @bc_25_years_old_and_under')\n",
    "\n",
    "# Explore results (info)\n",
    "bc_more_than_once_over_25_driver.info()"
   ]
  },
  {
   "cell_type": "markdown",
   "metadata": {},
   "source": [
    "We were able to obtain 418 entries that do NOT match the value \"do not drive\". However, we can also verify that all those entries have a NULL \"car\" value. During our initial data eploration, we assumed that if the value of the \"car\" column is NULL, the person does not drive. Based on that assumption, we set the values of both the \"drives_car\" and \"rides_motorcycle\" columns to FALSE. However, there can be another interpretation of the car value being NULL: the person DOES drive a car (or rides a motorcycle), but the person did not provide a description of such vehicle. \n",
    "\n",
    "<b><i>Note: Although another interpretation for the NULL value of \"car\" could be that the person is not the driver. However, we can dismiss such assumption based on the following statement from the dataset description: \"The survey describes different driving scenarios including the destination, current time, weather, passenger, etc., and then ask the person whether he will accept the coupon if he is the driver\". This can be also confirmed by exploring the values on the passanger's column for these</i></b> \n",
    "\n"
   ]
  },
  {
   "cell_type": "code",
   "execution_count": null,
   "metadata": {},
   "outputs": [],
   "source": [
    "# Explore values of the \"passenger\" column   \n",
    "bc_more_than_once_over_25_driver['passenger'].value_counts()"
   ]
  },
  {
   "cell_type": "markdown",
   "metadata": {},
   "source": [
    "Having confirmed that the passenger column contains relevant data about passengers, we can assume that the person is a driver but that no information is available about the vehicle. For this reason, we're going to continue of our analysis using the original values on the \"car\" column to determine the coupon acceptance rate. "
   ]
  },
  {
   "cell_type": "code",
   "execution_count": null,
   "metadata": {},
   "outputs": [],
   "source": [
    "# Generate pie chart\n",
    "fig = px.pie(bc_more_than_once_over_25_driver, names=\"accept_coupon\", title=\"'Bar' Coupon Acceptance Rate: Over 25 year old, driver (includes unknown vehicle), visits bar more than once a month\")\n",
    "fig.show()"
   ]
  },
  {
   "cell_type": "markdown",
   "metadata": {},
   "source": [
    "To calculate the acceptance rate of the rest of the population, we're going to create a copy of the \"bar_coupon\" dataframe and remove the entries that match the condition \"Over 25 year old, driver (including null values) and that visit the bar more than once."
   ]
  },
  {
   "cell_type": "code",
   "execution_count": null,
   "metadata": {},
   "outputs": [],
   "source": [
    "# Make copy of the \"bar_coupons\" dataframe\n",
    "bc_everyone_else = bar_coupons.copy()\n",
    "\n",
    "# Drop entries what match the condition \"Over 25 year old, driver (including null values) and that visit the bar more than once\"\n",
    "bc_everyone_else.drop(bc_more_than_once_over_25_driver.index, inplace=True)\n",
    "\n",
    "# Plot acceptance rate using pie chart\n",
    "fig = px.pie(bc_everyone_else, names=\"accept_coupon\", title=\"'Bar' Coupon Acceptance Rate: Everyone other than 'Over 25 year old, driver (including 'unknown' vehicle) and that visits a bar more than once a month'\")\n",
    "fig.show()"
   ]
  },
  {
   "cell_type": "markdown",
   "metadata": {},
   "source": [
    "<b>Summary of coupon acceptance rates for groups in question 4:</b>\n",
    "- Drivers who go to a bar more than once a month and are over the age of 25: \n",
    "    - Acceptance rate: 69.4%\n",
    "- All others: \n",
    "    - Acceptance rate: 33.6%"
   ]
  },
  {
   "cell_type": "markdown",
   "metadata": {},
   "source": [
    "#### 5. Use the same process to compare the acceptance rate between drivers who go to bars more than once a month and had passengers that were not a kid and had occupations other than farming, fishing, or forestry. \n"
   ]
  },
  {
   "cell_type": "code",
   "execution_count": null,
   "metadata": {},
   "outputs": [],
   "source": [
    "# Explore unique values for \"passengers\" \n",
    "bar_coupons['passenger'].value_counts()"
   ]
  },
  {
   "cell_type": "code",
   "execution_count": null,
   "metadata": {},
   "outputs": [],
   "source": [
    "# Explore unique values for \"occupations\" \n",
    "bar_coupons['occupation'].value_counts()"
   ]
  },
  {
   "cell_type": "code",
   "execution_count": null,
   "metadata": {},
   "outputs": [],
   "source": [
    "# Group 5: \"drivers who go to bars more than once a month and had passengers that were not a kid and had occupations other than farming, fishing, or forestry\"\n",
    "group_5a = bar_coupons.query('car != \"do not drive\" & bar in @bc_more_than_once & passenger != \"Kid(s)\" & occupation != \"Farming Fishing & Forestry\"')\n",
    "\n",
    "# Generate pie chart\n",
    "fig_5a = px.pie(group_5a, names='accept_coupon', title=\"'Bar' Coupon Acceptance Rate: Drivers that go to bars more than once a month, without kid passengers, and had occupations other than farming, fishing, or forestry\")\n",
    "fig_5a.show()"
   ]
  },
  {
   "cell_type": "markdown",
   "metadata": {},
   "source": [
    "<i>NOTE: It is not clear on the question statement what this group should be compared to. Therefore, we'll continue our analysis with the assumption that the comparison should be done against \"All Others\" (as in question 4).</i>"
   ]
  },
  {
   "cell_type": "code",
   "execution_count": null,
   "metadata": {},
   "outputs": [],
   "source": [
    "# Group 5b: All others (than \"drivers who go to bars more than once a month and had passengers that were not a kid and had occupations other than farming, fishing, or forestry\")\n",
    "group_5b = bar_coupons.copy()\n",
    "group_5b.drop(group_5a.index, inplace=True)\n",
    "\n",
    "# Generate pie chart\n",
    "fig_5b = px.pie(group_5b, names='accept_coupon', title=\"'Bar' Coupon Acceptance Rate: Everyone other than 'drivers that go to bars more than once a month, without kid passengers, and had occupations other than farming, fishing, or forestry'\")\n",
    "fig_5b.show()"
   ]
  },
  {
   "cell_type": "markdown",
   "metadata": {},
   "source": [
    "<b>Summary of coupon acceptance rates for groups in question 5:</b>\n",
    "- Drivers who go to bars more than once a month and had passengers that were not a kid and had occupations other than farming, fishing, or forestry: \n",
    "    - Acceptance Rate: 71.2%\n",
    "- All Others: \n",
    "    - Acceptance Rate: 29.7%"
   ]
  },
  {
   "cell_type": "markdown",
   "metadata": {},
   "source": [
    "#### 6. Compare the acceptance rates between those drivers who:\n",
    "\n",
    "- go to bars more than once a month, had passengers that were not a kid, and were not widowed *OR*\n",
    "- go to bars more than once a month and are under the age of 30 *OR*\n",
    "- go to cheap restaurants more than 4 times a month and income is less than 50K. \n",
    "\n"
   ]
  },
  {
   "cell_type": "code",
   "execution_count": null,
   "metadata": {},
   "outputs": [],
   "source": [
    "# Explore values of \"marital_status\" column\n",
    "bar_coupons['marital_status'].value_counts() "
   ]
  },
  {
   "cell_type": "code",
   "execution_count": null,
   "metadata": {},
   "outputs": [],
   "source": [
    "# Query 6a: \"drivers go to bars more than once a month, had passengers that were not a kid, and were not widowed\"\n",
    "query_6a = \"car != 'do not drive' & bar in @bc_more_than_once & passenger != 'Kid(s)' & marital_status != 'Widowed'\"\n",
    "group_6a = bar_coupons.query(query_6a)\n",
    "\n",
    "# Generate pie chart\n",
    "fig_6a = px.pie(group_6a, names='accept_coupon', title=\"'Bar' Coupon Acceptance Rate: Drivers that go to bars more than once a month, without kid passengers, and were not widowed\")\n",
    "fig_6a.show()\n"
   ]
  },
  {
   "cell_type": "markdown",
   "metadata": {},
   "source": [
    "Note: the question asks for \"drivers that go to bars more than once a month and are under the age of 30\". However, since the age is given in age groups, people age 30 are included on the group \"26 to 30\". Therefore, I will provide both variants as part of my analysis below"
   ]
  },
  {
   "cell_type": "code",
   "execution_count": null,
   "metadata": {},
   "outputs": [],
   "source": [
    "# Query 6b: \"drivers that go to bars more than once a month and are under the age of 30 (please read note above)\" \n",
    "age_under_30 = ['under 21', '21 to 25']\n",
    "query_6b = \"car != 'do not drive' & bar in @bc_more_than_once & age in @age_under_30\"\n",
    "group_6b = bar_coupons.query(query_6b)\n",
    "\n",
    "# Generate pie chart\n",
    "fig_6b = px.pie(group_6b, names='accept_coupon', title=\"'Bar' Coupon Acceptance Rate: Drivers that go to bars more than once a month and are under the age of 26\")\n",
    "fig_6b.show()"
   ]
  },
  {
   "cell_type": "code",
   "execution_count": null,
   "metadata": {},
   "outputs": [],
   "source": [
    "# Query 6b: \"drivers that go to bars more than once a month and are under the age of 31 (please read note above)\" \n",
    "age_under_31 = ['under 21', '21 to 25', '26 to 30']\n",
    "query_6b_variant = \"car != 'do not drive' & bar in @bc_more_than_once and age in @age_under_31\"\n",
    "group_6b_variant = bar_coupons.query(query_6b_variant)\n",
    "\n",
    "# Generate pie chart\n",
    "fig_6b_variant = px.pie(group_6b_variant, names='accept_coupon', title=\"'Bar' Coupon Acceptance Rate: Drivers that go to bars more than once a month and are under the age of 31\")\n",
    "fig_6b_variant.show()"
   ]
  },
  {
   "cell_type": "code",
   "execution_count": null,
   "metadata": {},
   "outputs": [],
   "source": [
    "# Set list of values for \"more than four times a month\"\n",
    "more_than_four_tam = ['4~8', 'gt8']\n",
    "\n",
    "# Explore income column values\n",
    "bar_coupons['income'].value_counts()"
   ]
  },
  {
   "cell_type": "code",
   "execution_count": null,
   "metadata": {},
   "outputs": [],
   "source": [
    "# Set list of values for \"income less than 50k\"\n",
    "income_less_than_50k = ['Less than $12500', '$12500 - $24999', '$25000 - $37499', '$37500 - $49999']\n",
    "\n",
    "# Query 6c: \"drivers that go to cheap restaurants more than 4 times a month and income is less than 50K.\"\n",
    "query_6c = \"car != 'do not drive' & restaurant_less_than_20 in @more_than_four_tam & income in @income_less_than_50k\"\n",
    "\n",
    "# Set group 6c:\n",
    "group_6c = bar_coupons.query(query_6c) \n",
    "\n",
    "# Generate visualization\n",
    "fig_6c = px.pie(group_6c, names=\"accept_coupon\", title=\"'Bar' Coupon Acceptance Rate: Drivers that go to cheap restaurants more than 4 times a month and income is less than 50K\") \n",
    "fig_6c.show()\n"
   ]
  },
  {
   "cell_type": "markdown",
   "metadata": {},
   "source": [
    "#### 7.  Based on these observations, what do you hypothesize about drivers who accepted the bar coupons?"
   ]
  },
  {
   "cell_type": "markdown",
   "metadata": {},
   "source": [
    "##### Summary of the data collected:\n",
    "\n",
    "- Overall acceptance rate of bar coupons: 41.0%\n",
    "- Acceptance rate by group:\n",
    "    - Those who went to a bar 3 or fewer times in a month: 37.1% \n",
    "    - Those who went to a bar more than 3 times in a month: 76.9%\n",
    "    - Drivers who are over 25 years old and visit a bar more than once a month accepted the coupon: 69.4% vs 33.6% (all others)\n",
    "    - Drivers who go to bars more than once a month and had passengers who were not a kid and had occupations other than farming, fishing, or forestry: 71.2% vs 29.7% (all others)\n",
    "    - Drivers who go to bars more than once a month, had passengers who were not a kid, and were not widowed: 71.2%\n",
    "    - Drivers who go to bars more than once a month and are under the age of 30: 67.0% \n",
    "    - Drivers who go to bars more than once a month and are under the age of 31: 72.0%\n",
    "    - Drivers who go to cheap restaurants more than 4 times a month and income is less than 50K: 45.3% \n",
    "\n",
    "\n",
    "##### Hypothesis:\n",
    "Based on the data obtained thus far, we can draw the following hypothesis:\n",
    "The highest acceptance rate for bar coupons will come from those who go to a bar more than 3 times a month, followed by drivers aged under 31 years old who go to the bar more than once in a month. On the other hand, we may predict that the lowest acceptance rate for bar coupons will come from those who go to a bar 3 or less times in a month. "
   ]
  },
  {
   "cell_type": "markdown",
   "metadata": {},
   "source": [
    "-----------------------"
   ]
  },
  {
   "cell_type": "markdown",
   "metadata": {},
   "source": [
    "## Independent Investigation\n",
    "\n",
    "Using the bar coupon example as motivation, you are to explore one of the other coupon groups and try to determine the characteristics of passengers who accept the coupons.  "
   ]
  },
  {
   "cell_type": "code",
   "execution_count": null,
   "metadata": {},
   "outputs": [],
   "source": [
    "# Query entries where accept_coupon == True\n",
    "accepted_coupons_df = data.query(\"accept_coupon == True\")\n",
    "\n",
    "# Explore results\n",
    "accepted_coupons_df.head()"
   ]
  },
  {
   "cell_type": "code",
   "execution_count": null,
   "metadata": {},
   "outputs": [],
   "source": [
    "# Generate histogram to visualize distribution of coupon types \n",
    "fig = px.histogram(\n",
    "    accepted_coupons_df,\n",
    "    x='coupon' \n",
    ")\n",
    "fig.show()"
   ]
  },
  {
   "cell_type": "markdown",
   "metadata": {},
   "source": [
    "From the chart above we can see that the 'Coffee House', 'Restaurant(<20)' and 'Carry out & Take Away' coupon types are the most accepted."
   ]
  },
  {
   "cell_type": "code",
   "execution_count": null,
   "metadata": {},
   "outputs": [],
   "source": [
    "# Genarate historgram to visualize distribution of coupons by age and gender. Add \"has_children\" pattern\n",
    "fig = px.histogram(\n",
    "    accepted_coupons_df, \n",
    "    x='age', \n",
    "    color='gender', \n",
    "    category_orders={'age' : [\"under 21\", \"21 to 25\", \"26 to 30\", \"31 to 35\", \"36 to 40\", \"41 to 45\", \"46 to 50\", \"Over 50\"]}, \n",
    "    pattern_shape='has_children',\n",
    "    title=\"Coupon Acceptance Count: Aggregated by age, gender and has children (true/false)\"\n",
    "    )\n",
    "fig.show()"
   ]
  },
  {
   "cell_type": "markdown",
   "metadata": {},
   "source": [
    "From the previous chart we can see that the the highest acceptance comes from the population of age \"21 through 30\", almost equally distributed among males and females, and with no children (as shown by the pattern). "
   ]
  },
  {
   "cell_type": "code",
   "execution_count": null,
   "metadata": {},
   "outputs": [],
   "source": [
    "# Filter data to only include only the population aged 21 to 30 years old\n",
    "ac_21_to_30_df = accepted_coupons_df.query(\"age == '21 to 25' | age == '26 to 30'\")\n",
    "\n",
    "# Genarate histogram to visualize distribution by passenger and destination. Add \"same_direction\" as pattern\n",
    "px.histogram(ac_21_to_30_df, x='passenger', color='destination', pattern_shape='direction_same', title=\"Coupon Acceptance Count: Aggregated by passenger type and destination\")"
   ]
  },
  {
   "cell_type": "markdown",
   "metadata": {},
   "source": [
    "From the chart above we can see that the highest acceptance comes from the population that drives alone, followed by the population that travel with friends. Some important observations from this chart:\n",
    "1. There is a higher engagement from those traveling alone in opposite direction to work (as shown by the pattern). \n",
    "2. There is a higher engagement from those traveling alone in the same direction to home (as shown by the pattern). \n",
    "3. Those traveling with friends engage while traveling to a \"No Urgent Place\" (not going to work or home). "
   ]
  },
  {
   "cell_type": "code",
   "execution_count": null,
   "metadata": {},
   "outputs": [],
   "source": [
    "# Generate histogram to visualize distribution by income and occupation\n",
    "px.histogram(\n",
    "    ac_21_to_30_df, \n",
    "    x='income', \n",
    "    color='occupation',\n",
    "    category_orders={\n",
    "        'income' : [\n",
    "            'Less than $12500',\n",
    "            '$12500 - $24999',\n",
    "            '$25000 - $37499',\n",
    "            '$37500 - $49999',\n",
    "            '$50000 - $62499',\n",
    "            '$62500 - $74999',\n",
    "            '$75000 - $87499',\n",
    "            '$87500 - $99999',\n",
    "            '$100000 or More'\n",
    "        ]\n",
    "    },\n",
    "    title=\"Coupon Acceptance Count: Aggregated by income and occupation\"\n",
    ")"
   ]
  },
  {
   "cell_type": "markdown",
   "metadata": {},
   "source": [
    "The chart above shows that the highest coupon acceptance comes from those with an income between $12,500 and $37,499. Those with occupation \"Student\" show higher coupon acceptance than others. \n",
    "\n",
    "To better visualize the coupon acceptance by occupation, we'll use a pie chart. "
   ]
  },
  {
   "cell_type": "code",
   "execution_count": null,
   "metadata": {},
   "outputs": [],
   "source": [
    "# Generate pie chart\n",
    "px.pie(ac_21_to_30_df, names='occupation', title=\"Coupon Acceptance Rate: Aggregated by Occupation\")"
   ]
  },
  {
   "cell_type": "markdown",
   "metadata": {},
   "source": [
    "The previous chart shows that the highest coupon acceptance comes from those with occupations \"Unemployed\", \"Student\" and \"Computer & Mathematical\". The population with these three occupations represent slightly over half of the entire population that accepts coupons on the dataset. Therefore, we're going to focus on this population for the rest of the analysis.   "
   ]
  },
  {
   "cell_type": "code",
   "execution_count": null,
   "metadata": {},
   "outputs": [],
   "source": [
    "# Create list of high engagement occupations \n",
    "filter_occupations = ['Unemployed', 'Student', 'Computer & Mathematical']\n",
    "\n",
    "# Create dataframe with occupation filter \n",
    "ac_21_to_25_filtered_ccupations_df = ac_21_to_30_df.query(\"occupation in @filter_occupations\")\n",
    "\n",
    "# Generate pie chart to visualize car type\n",
    "px.pie(ac_21_to_25_filtered_ccupations_df, names='car', title=\"Coupon Acceptance Rate: Aggregated by car type\")"
   ]
  },
  {
   "cell_type": "markdown",
   "metadata": {},
   "source": [
    "The pie chart above shows that 97.9% of the entries on this subset of the data contain null values on the \"car\" column. \n",
    "\n",
    "<i>Note: As discussed on the first part of this analysis, we are assuming that the person is still a driver (since these entries also contain information about the passenger), and that the null values represent missing information about the car type.</i> "
   ]
  },
  {
   "cell_type": "code",
   "execution_count": null,
   "metadata": {},
   "outputs": [],
   "source": [
    "# Generate pie chart to visualize marital status\n",
    "px.pie(ac_21_to_25_filtered_ccupations_df, names='marital_status', title=\"Coupon Acceptance Rate: Aggregated by marital status\")"
   ]
  },
  {
   "cell_type": "markdown",
   "metadata": {},
   "source": [
    "The chart above shows that more than half of the population (57.9%) are single."
   ]
  },
  {
   "cell_type": "code",
   "execution_count": null,
   "metadata": {},
   "outputs": [],
   "source": [
    "# Generate histogram to visualize the distribution by weather and temperature \n",
    "px.histogram(ac_21_to_25_filtered_ccupations_df, x='weather', color=\"temperature\", title=\"Coupon Acceptance Count: Aggregated by weather and temperature\")"
   ]
  },
  {
   "cell_type": "markdown",
   "metadata": {},
   "source": [
    "The chart above shows us that the vast majority of the coupons were accepted on a sunny day, with a higher proportion when the temperature is 80 F. "
   ]
  },
  {
   "cell_type": "code",
   "execution_count": null,
   "metadata": {},
   "outputs": [],
   "source": [
    "# Generate histogram to visualize distribution by time of acceptance and coupon expiration \n",
    "px.histogram(\n",
    "    ac_21_to_25_filtered_ccupations_df, \n",
    "    x='time', \n",
    "    color='expiration',\n",
    "    category_orders={\n",
    "        'time' : [\n",
    "            '7AM',\n",
    "            '10AM',\n",
    "            '2PM',\n",
    "            '6PM',\n",
    "            '10PM'\n",
    "        ]\n",
    "    },\n",
    "    title=\"Coupon Acceptance Count: Aggregated by Time of Acceptance and Expiration\"\n",
    ")"
   ]
  },
  {
   "cell_type": "markdown",
   "metadata": {},
   "source": [
    "From the previous visualization we can see that the highest acceptance is at 6PM, with a higher proportion on coupons expiring witin 1 day (1d).  "
   ]
  },
  {
   "cell_type": "code",
   "execution_count": null,
   "metadata": {},
   "outputs": [],
   "source": [
    "# Generate histogram to visualize distribution by frequency of visits (per month) by establishement type  \n",
    "px.histogram(\n",
    "    ac_21_to_25_filtered_ccupations_df, \n",
    "    x=['coffee_house', 'bar', 'restaurant_less_than_20', 'restaurant_20_to_50', 'carry_away'],\n",
    "    category_orders={\n",
    "        'value' : [\n",
    "            'never',\n",
    "            'less1',\n",
    "            '1~3',\n",
    "            '4~8',\n",
    "            'gt8'\n",
    "        ]\n",
    "    },\n",
    "    title=\"Coupon Acceptance Count: Aggregated by frequency of visits (per month) and establishment type\"\n",
    ")"
   ]
  },
  {
   "cell_type": "markdown",
   "metadata": {},
   "source": [
    "The visualization above shows us that the population with highest acceptance rate visits all establishment types 1~3 times per month, with a higher proportion on the \"carry_away\" establishement type.   "
   ]
  },
  {
   "cell_type": "code",
   "execution_count": null,
   "metadata": {},
   "outputs": [],
   "source": [
    "# Generate piechart to visualize distribution by education level  \n",
    "px.pie(ac_21_to_25_filtered_ccupations_df, names='education', title=\"Coupon Acceptance Rate: Aggregated by education level\")"
   ]
  },
  {
   "cell_type": "markdown",
   "metadata": {},
   "source": [
    "The pie chart above shows us that the highest coupon acceptance come at almost an exact proportion (~37%) from those with a \"Bachelors degree\" and those with \"Some colle - no degree\".  "
   ]
  },
  {
   "cell_type": "code",
   "execution_count": null,
   "metadata": {},
   "outputs": [],
   "source": [
    "# Additional imports \n",
    "import plotly.graph_objects as go\n",
    "from plotly.subplots import make_subplots\n",
    "\n",
    "# Function: rename_columns\n",
    "def rename_columns(x): \n",
    "    match x:\n",
    "        case 'has_children':\n",
    "            renamed_value = 'Has Children'\n",
    "        case 'to_coupon_geq_15min':\n",
    "            renamed_value = 'Distance To Coupon (>= 15min)'\n",
    "        case 'to_coupon_geq_25min':\n",
    "            renamed_value = 'Distance To Coupon (>= 25min)'\n",
    "        case 'direction_same':\n",
    "            renamed_value = 'Travels Same Direction'\n",
    "        case 'direction_opp':\n",
    "            renamed_value = 'Travels Opposite Direction'\n",
    "    return renamed_value\n",
    "\n",
    "# Create dataframe with subset of data\n",
    "df = ac_21_to_25_filtered_ccupations_df[['has_children', 'to_coupon_geq_15min', 'to_coupon_geq_25min', 'direction_same', 'direction_opp']]\n",
    "\n",
    "# Generate visualization\n",
    "fig = make_subplots(rows=1, cols=5)\n",
    "L= len(df)\n",
    "\n",
    "# Set column names\n",
    "cnames = list(df.columns)\n",
    "for k, name in enumerate(cnames):\n",
    "    n_true = df[name].sum()\n",
    "    fig.add_trace(go.Bar(x=['True', 'False'], y=[n_true, L-n_true], name=rename_columns(name)), 1,k+1)\n",
    "\n",
    "# Update layout\n",
    "fig.update_layout(barmode='relative',  bargap=0.05, width=1600, height=400, title=\"Coupon Acceptance Count: Aggregated by common characteristics\")\n",
    "\n"
   ]
  },
  {
   "cell_type": "markdown",
   "metadata": {},
   "source": [
    "From the visualization above we see that the highest coupon acceptance come from the population with the following characteristics:\n",
    "- Do not have children\n",
    "- Distance to coupon within 15min and 25min\n",
    "- Drive in the opposite direction to their destination"
   ]
  },
  {
   "cell_type": "markdown",
   "metadata": {},
   "source": [
    "## Conclusion:"
   ]
  },
  {
   "cell_type": "markdown",
   "metadata": {},
   "source": [
    "From the independent portion of this analysis, we draw the following conclusions about the characteristics of the population with the highest coupon engagement rate:\n",
    "\n",
    "1. Their acceptance is higher for coupons of type \"Coffee House\", \"Restaurant(<20)\" and \"Carry out & Take Away\". \n",
    "2. They're of age \"21 through 30\", almost equally distributed among males and females, and with no children.   \n",
    "3. Most of the population drives alone, followed by the population that travel with friends.\n",
    "    - There is a higher engagement from those traveling alone in opposite direction to work. \n",
    "    - There is a higher engagement from those traveling alone in the same direction to home. \n",
    "    - Those traveling with friends engage while traveling to a \"No Urgent Place\" (not going to work or home).\n",
    "4. They have an income between $12,500 and $37,499, and those with the occupation \"Student\" show higher acceptance than others. \n",
    "5. Their occupations are distributed among \"Unemployed\", \"Student\" and \"Computer & Mathematical\". The population with these three occupations represents slightly over half of the population that accepts coupons on the dataset. \n",
    "6. 97.9% of the entries on this subset of the data contain null values on the \"car\" column. For this analysis, we assumed that unless the car column contained the value \"do not drive\" the person is a driver. We support this assumption with the fact that the entries with NULL values also contain information about the passenger. Therefore, the assumption is that the null values represent missing information about the car type.\n",
    "7. More than half of the population (57.9%) is single.\n",
    "8. The vast majority of the coupons were accepted on a sunny day, with a higher proportion when the temperature is 80 F. \n",
    "9. The highest acceptance is at 6PM, with a higher proportion of coupons expiring within 1 day (1d).  \n",
    "10. This population visits all establishment types 1~3 times per month, with a higher proportion on the \"carry_away\" establishment type.   \n",
    "11. There's almost an exact proportion (~37%) of those with a \"Bachelors degree\" and those with \"Some colle - no degree\".  \n",
    "12. Other characteristics about this population: \n",
    "\t- They do not have children.\n",
    "\t- They accept the coupons when within a distance 15min and 25min to the establishment.\n",
    "\t- They drive in the opposite direction to their destination when they accept the coupon.\n"
   ]
  },
  {
   "cell_type": "markdown",
   "metadata": {},
   "source": [
    "## Next Steps & Recommendations:\n",
    "Although we've obtained valuable insights from this analysis, the fact that so many entries do not have a value (NULL) in the car column represents a concern about the results' quality. The assumption throughout this analysis was that entries without car information still meant drivers. This assumption is supported by most of those entries that also contained \"passenger\" information. Also, from the description provided with the dataset, it can be inferred that all entries had information about drivers.\n",
    "\n",
    "However, a recommended next step would be to find out why this information was missing and try to obtain it from another source if possible. Once available, rerunning this analysis and comparing results would be best."
   ]
  },
  {
   "cell_type": "markdown",
   "metadata": {},
   "source": []
  }
 ],
 "metadata": {
  "kernelspec": {
   "display_name": "Python 3",
   "language": "python",
   "name": "python3"
  },
  "language_info": {
   "codemirror_mode": {
    "name": "ipython",
    "version": 3
   },
   "file_extension": ".py",
   "mimetype": "text/x-python",
   "name": "python",
   "nbconvert_exporter": "python",
   "pygments_lexer": "ipython3",
   "version": "3.11.4"
  },
  "widgets": {
   "application/vnd.jupyter.widget-state+json": {
    "state": {},
    "version_major": 2,
    "version_minor": 0
   }
  }
 },
 "nbformat": 4,
 "nbformat_minor": 4
}
